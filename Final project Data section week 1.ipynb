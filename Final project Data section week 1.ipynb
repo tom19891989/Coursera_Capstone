{
    "cells": [
        {
            "metadata": {
                "collapsed": true
            },
            "cell_type": "markdown",
            "source": "# Data section"
        },
        {
            "metadata": {},
            "cell_type": "markdown",
            "source": "#### Description of the data: The project will utilize freely accessible information from Wikipedia and Foursquare. Precisely, all Toronto neighborhood complex elements besides their postal codes are accessible here: https://en.wikipedia.org/wiki/List_of_postal_codes_of_Canada:_M. The center of this venture will be the Downtown Toronto neighborhoods that will be analyzed accordingly. The Foursquare API will be used to get the geological area information for Downtown Toronto, and data will be utilized to investigate the eatery within the neighborhoods. The restaurants will give the categories required for the investigation and these will be utilized to decide the reasonability of the chosen areas for the European food establishment. How information will be utilized to find a solution: The information from Wikipedia and Foursquare will be investigated and analyzed by restaurants in Downtown Toronto. The eateries from the center of the city will be checked on in terms of the sorts of categories of eateries inside a particular radius. The information will be utilized to come up with a recurrence examination for a European restaurant in Downtown Toronto and to come up with the most accurate choices of neighborhoods for the client."
        },
        {
            "metadata": {},
            "cell_type": "code",
            "source": "",
            "execution_count": null,
            "outputs": []
        }
    ],
    "metadata": {
        "kernelspec": {
            "name": "python3",
            "display_name": "Python 3.6",
            "language": "python"
        },
        "language_info": {
            "name": "python",
            "version": "3.6.9",
            "mimetype": "text/x-python",
            "codemirror_mode": {
                "name": "ipython",
                "version": 3
            },
            "pygments_lexer": "ipython3",
            "nbconvert_exporter": "python",
            "file_extension": ".py"
        }
    },
    "nbformat": 4,
    "nbformat_minor": 1
}