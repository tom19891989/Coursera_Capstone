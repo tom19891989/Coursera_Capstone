{
    "cells": [
        {
            "metadata": {
                "collapsed": true
            },
            "cell_type": "markdown",
            "source": "# Introduction/Business Problem section"
        },
        {
            "metadata": {},
            "cell_type": "markdown",
            "source": "#### Let's assume that the research has been requested by a prosperous and fruitful restaurant from Europe who is keen on extending trade operations into Toronto. He needs to make a restaurant that will serve and offer the complete lavishness of European culture and cooking to the individuals of Downtown Toronto. Since Downtown Toronto is exceptionally ambitious in terms of the restaurant domain, my client needs an understanding of the market in order to choose in which neighborhood to set up this trustworthy European diner."
        },
        {
            "metadata": {},
            "cell_type": "code",
            "source": "",
            "execution_count": null,
            "outputs": []
        }
    ],
    "metadata": {
        "kernelspec": {
            "name": "python3",
            "display_name": "Python 3.6",
            "language": "python"
        },
        "language_info": {
            "name": "python",
            "version": "3.6.9",
            "mimetype": "text/x-python",
            "codemirror_mode": {
                "name": "ipython",
                "version": 3
            },
            "pygments_lexer": "ipython3",
            "nbconvert_exporter": "python",
            "file_extension": ".py"
        }
    },
    "nbformat": 4,
    "nbformat_minor": 1
}